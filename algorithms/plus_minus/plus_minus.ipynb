{
 "cells": [
  {
   "cell_type": "code",
   "id": "initial_id",
   "metadata": {
    "collapsed": true,
    "ExecuteTime": {
     "end_time": "2025-03-27T02:33:25.181580Z",
     "start_time": "2025-03-27T02:33:25.173543Z"
    }
   },
   "source": [
    "def plus_minus(a):\n",
    "    positive = 0\n",
    "    negative = 0\n",
    "    zero = 0\n",
    "    for i in a:\n",
    "        if i > 0:\n",
    "            positive += 1\n",
    "        elif i < 0:\n",
    "            negative += 1\n",
    "        else:\n",
    "            zero += 1\n",
    "    total = len(a)\n",
    "    print(f'{positive / total:.2f}')\n",
    "    print(f'{negative / total:.2f}')\n",
    "    print(f'{zero / total:.2f}')\n",
    "\n",
    "arr= [-4, 3, -9, 0, 4, 1,2,3,4,1,-2,-1,-2,-3,-4]\n",
    "plus_minus(arr)"
   ],
   "outputs": [
    {
     "name": "stdout",
     "output_type": "stream",
     "text": [
      "0.47\n",
      "0.47\n",
      "0.07\n"
     ]
    }
   ],
   "execution_count": 7
  },
  {
   "metadata": {
    "ExecuteTime": {
     "end_time": "2025-03-27T02:34:54.771271Z",
     "start_time": "2025-03-27T02:34:54.762310Z"
    }
   },
   "cell_type": "code",
   "source": [
    "def plus_minus(a):\n",
    "    positive = sum(1 for i in a if i > 0)\n",
    "    negative = sum(1 for i in a if i < 0)\n",
    "    zero = sum(1 for i in a if i == 0)\n",
    "    total = len(a)\n",
    "    print(f'{positive / total:.2f}')\n",
    "    print(f'{negative / total:.2f}')\n",
    "    print(f'{zero / total:.2f}')\n",
    "\n",
    "arr= [-4, 3, -9, 0, 4, 1,2,3,4,1,-2,-1,-2,-3,-4]\n",
    "plus_minus(arr)"
   ],
   "id": "461451cbba4cf35f",
   "outputs": [
    {
     "name": "stdout",
     "output_type": "stream",
     "text": [
      "0.47\n",
      "0.47\n",
      "0.07\n"
     ]
    }
   ],
   "execution_count": 8
  }
 ],
 "metadata": {
  "kernelspec": {
   "display_name": "Python 3",
   "language": "python",
   "name": "python3"
  },
  "language_info": {
   "codemirror_mode": {
    "name": "ipython",
    "version": 2
   },
   "file_extension": ".py",
   "mimetype": "text/x-python",
   "name": "python",
   "nbconvert_exporter": "python",
   "pygments_lexer": "ipython2",
   "version": "2.7.6"
  }
 },
 "nbformat": 4,
 "nbformat_minor": 5
}
