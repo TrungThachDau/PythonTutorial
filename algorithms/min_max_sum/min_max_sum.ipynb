{
 "cells": [
  {
   "cell_type": "code",
   "id": "initial_id",
   "metadata": {
    "collapsed": true,
    "ExecuteTime": {
     "end_time": "2025-03-27T02:38:43.819610Z",
     "start_time": "2025-03-27T02:38:43.809666Z"
    }
   },
   "source": [
    "def min_max_sum(a):\n",
    "    a.sort()\n",
    "    min_val = sum(a[:-4])\n",
    "    max_val = sum(a[:4])\n",
    "\n",
    "    print(f'{min_val} {max_val}')\n",
    "\n",
    "arr = [1,2,3,4,5,6,7,8,9,10,11,12,13,14,15]\n",
    "min_max_sum(arr)\n"
   ],
   "outputs": [
    {
     "name": "stdout",
     "output_type": "stream",
     "text": [
      "66 10\n"
     ]
    }
   ],
   "execution_count": 1
  }
 ],
 "metadata": {
  "kernelspec": {
   "display_name": "Python 3",
   "language": "python",
   "name": "python3"
  },
  "language_info": {
   "codemirror_mode": {
    "name": "ipython",
    "version": 2
   },
   "file_extension": ".py",
   "mimetype": "text/x-python",
   "name": "python",
   "nbconvert_exporter": "python",
   "pygments_lexer": "ipython2",
   "version": "2.7.6"
  }
 },
 "nbformat": 4,
 "nbformat_minor": 5
}
