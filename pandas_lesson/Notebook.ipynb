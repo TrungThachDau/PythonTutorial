{
 "cells": [
  {
   "cell_type": "code",
   "id": "initial_id",
   "metadata": {
    "collapsed": true,
    "ExecuteTime": {
     "end_time": "2025-03-17T07:22:22.453127Z",
     "start_time": "2025-03-17T07:22:11.616435Z"
    }
   },
   "source": [
    "import pandas as pd\n",
    "import numpy as np"
   ],
   "outputs": [],
   "execution_count": 1
  },
  {
   "metadata": {},
   "cell_type": "markdown",
   "source": "",
   "id": "c2384cf8fd4ae76e"
  },
  {
   "metadata": {
    "ExecuteTime": {
     "end_time": "2025-03-17T07:23:19.696703Z",
     "start_time": "2025-03-17T07:23:19.625326Z"
    }
   },
   "cell_type": "code",
   "source": [
    "file_path = \"./140325_LoL_champion_data.csv\"\n",
    "\n",
    "df = pd.read_csv(file_path)\n",
    "df.head(1)"
   ],
   "id": "290eaedde469bfe7",
   "outputs": [
    {
     "data": {
      "text/plain": [
       "  Unnamed: 0     id apiname             title  difficulty herotype alttype  \\\n",
       "0     Aatrox  266.0  Aatrox  the Darkin Blade           2  Fighter    Tank   \n",
       "\n",
       "     resource                                              stats rangetype  \\\n",
       "0  Blood Well  {'hp_base': 650, 'hp_lvl': 114, 'mp_base': 0, ...     Melee   \n",
       "\n",
       "   ...    be   rp                     skill_i  \\\n",
       "0  ...  2400  880  {1: 'Deathbringer Stance'}   \n",
       "\n",
       "                                            skill_q                 skill_w  \\\n",
       "0  {1: 'The Darkin Blade', 2: 'The Darkin Blade 3'}  {1: 'Infernal Chains'}   \n",
       "\n",
       "              skill_e             skill_r  \\\n",
       "0  {1: 'Umbral Dash'}  {1: 'World Ender'}   \n",
       "\n",
       "                                              skills  fullname  nickname  \n",
       "0  {1: 'Deathbringer Stance', 2: 'The Darkin Blad...       NaN       NaN  \n",
       "\n",
       "[1 rows x 33 columns]"
      ],
      "text/html": [
       "<div>\n",
       "<style scoped>\n",
       "    .dataframe tbody tr th:only-of-type {\n",
       "        vertical-align: middle;\n",
       "    }\n",
       "\n",
       "    .dataframe tbody tr th {\n",
       "        vertical-align: top;\n",
       "    }\n",
       "\n",
       "    .dataframe thead th {\n",
       "        text-align: right;\n",
       "    }\n",
       "</style>\n",
       "<table border=\"1\" class=\"dataframe\">\n",
       "  <thead>\n",
       "    <tr style=\"text-align: right;\">\n",
       "      <th></th>\n",
       "      <th>Unnamed: 0</th>\n",
       "      <th>id</th>\n",
       "      <th>apiname</th>\n",
       "      <th>title</th>\n",
       "      <th>difficulty</th>\n",
       "      <th>herotype</th>\n",
       "      <th>alttype</th>\n",
       "      <th>resource</th>\n",
       "      <th>stats</th>\n",
       "      <th>rangetype</th>\n",
       "      <th>...</th>\n",
       "      <th>be</th>\n",
       "      <th>rp</th>\n",
       "      <th>skill_i</th>\n",
       "      <th>skill_q</th>\n",
       "      <th>skill_w</th>\n",
       "      <th>skill_e</th>\n",
       "      <th>skill_r</th>\n",
       "      <th>skills</th>\n",
       "      <th>fullname</th>\n",
       "      <th>nickname</th>\n",
       "    </tr>\n",
       "  </thead>\n",
       "  <tbody>\n",
       "    <tr>\n",
       "      <th>0</th>\n",
       "      <td>Aatrox</td>\n",
       "      <td>266.0</td>\n",
       "      <td>Aatrox</td>\n",
       "      <td>the Darkin Blade</td>\n",
       "      <td>2</td>\n",
       "      <td>Fighter</td>\n",
       "      <td>Tank</td>\n",
       "      <td>Blood Well</td>\n",
       "      <td>{'hp_base': 650, 'hp_lvl': 114, 'mp_base': 0, ...</td>\n",
       "      <td>Melee</td>\n",
       "      <td>...</td>\n",
       "      <td>2400</td>\n",
       "      <td>880</td>\n",
       "      <td>{1: 'Deathbringer Stance'}</td>\n",
       "      <td>{1: 'The Darkin Blade', 2: 'The Darkin Blade 3'}</td>\n",
       "      <td>{1: 'Infernal Chains'}</td>\n",
       "      <td>{1: 'Umbral Dash'}</td>\n",
       "      <td>{1: 'World Ender'}</td>\n",
       "      <td>{1: 'Deathbringer Stance', 2: 'The Darkin Blad...</td>\n",
       "      <td>NaN</td>\n",
       "      <td>NaN</td>\n",
       "    </tr>\n",
       "  </tbody>\n",
       "</table>\n",
       "<p>1 rows × 33 columns</p>\n",
       "</div>"
      ]
     },
     "execution_count": 6,
     "metadata": {},
     "output_type": "execute_result"
    }
   ],
   "execution_count": 6
  },
  {
   "metadata": {},
   "cell_type": "markdown",
   "source": "",
   "id": "c7b1608b62369761"
  },
  {
   "metadata": {},
   "cell_type": "markdown",
   "source": "",
   "id": "4b95e64c10290811"
  },
  {
   "metadata": {
    "ExecuteTime": {
     "end_time": "2025-03-17T08:01:31.686149Z",
     "start_time": "2025-03-17T08:01:31.672384Z"
    }
   },
   "cell_type": "code",
   "source": [
    "stats_df = df.loc[:, ['apiname','stats']]\n",
    "\n",
    "\n",
    "#Tìm apiname là Yasuo\n",
    "search = stats_df[stats_df['apiname'] == 'Yasuo']\n",
    "search"
   ],
   "id": "dbbbe959b6dbe134",
   "outputs": [
    {
     "data": {
      "text/plain": [
       "    apiname                                              stats\n",
       "161   Yasuo  {'hp_base': 590, 'hp_lvl': 110, 'mp_base': 100..."
      ],
      "text/html": [
       "<div>\n",
       "<style scoped>\n",
       "    .dataframe tbody tr th:only-of-type {\n",
       "        vertical-align: middle;\n",
       "    }\n",
       "\n",
       "    .dataframe tbody tr th {\n",
       "        vertical-align: top;\n",
       "    }\n",
       "\n",
       "    .dataframe thead th {\n",
       "        text-align: right;\n",
       "    }\n",
       "</style>\n",
       "<table border=\"1\" class=\"dataframe\">\n",
       "  <thead>\n",
       "    <tr style=\"text-align: right;\">\n",
       "      <th></th>\n",
       "      <th>apiname</th>\n",
       "      <th>stats</th>\n",
       "    </tr>\n",
       "  </thead>\n",
       "  <tbody>\n",
       "    <tr>\n",
       "      <th>161</th>\n",
       "      <td>Yasuo</td>\n",
       "      <td>{'hp_base': 590, 'hp_lvl': 110, 'mp_base': 100...</td>\n",
       "    </tr>\n",
       "  </tbody>\n",
       "</table>\n",
       "</div>"
      ]
     },
     "execution_count": 84,
     "metadata": {},
     "output_type": "execute_result"
    }
   ],
   "execution_count": 84
  },
  {
   "metadata": {},
   "cell_type": "markdown",
   "source": "",
   "id": "537f0ee650664b4"
  },
  {
   "metadata": {
    "ExecuteTime": {
     "end_time": "2025-03-17T07:51:53.549274Z",
     "start_time": "2025-03-17T07:51:53.351600Z"
    }
   },
   "cell_type": "code",
   "source": [
    "exploded_stats = stats_df['stats'].apply(lambda x: pd.Series(eval(x)))\n",
    "# Note that NaNs are replaced with 0\n",
    "exploded_stats_filled = exploded_stats.fillna(0)\n",
    "result_df = pd.concat([stats_df, exploded_stats_filled], axis=1)\n",
    "result_df.head(1)"
   ],
   "id": "b80f386b9f7753f0",
   "outputs": [
    {
     "data": {
      "text/plain": [
       "  apiname                                              stats  hp_base  hp_lvl  \\\n",
       "0  Aatrox  {'hp_base': 650, 'hp_lvl': 114, 'mp_base': 0, ...    650.0   114.0   \n",
       "\n",
       "   mp_base  mp_lvl  arm_base  arm_lvl  mr_base  mr_lvl  ...  missile_speed  \\\n",
       "0      0.0     0.0      38.0      4.8     32.0    2.05  ...            0.0   \n",
       "\n",
       "   usb  nb  ofa  gameplay_radius  crit_base  windup_modifier  range_lvl  \\\n",
       "0    0   0    0              0.0        0.0              0.0        0.0   \n",
       "\n",
       "   swift  crit_mod  \n",
       "0      0       0.0  \n",
       "\n",
       "[1 rows x 40 columns]"
      ],
      "text/html": [
       "<div>\n",
       "<style scoped>\n",
       "    .dataframe tbody tr th:only-of-type {\n",
       "        vertical-align: middle;\n",
       "    }\n",
       "\n",
       "    .dataframe tbody tr th {\n",
       "        vertical-align: top;\n",
       "    }\n",
       "\n",
       "    .dataframe thead th {\n",
       "        text-align: right;\n",
       "    }\n",
       "</style>\n",
       "<table border=\"1\" class=\"dataframe\">\n",
       "  <thead>\n",
       "    <tr style=\"text-align: right;\">\n",
       "      <th></th>\n",
       "      <th>apiname</th>\n",
       "      <th>stats</th>\n",
       "      <th>hp_base</th>\n",
       "      <th>hp_lvl</th>\n",
       "      <th>mp_base</th>\n",
       "      <th>mp_lvl</th>\n",
       "      <th>arm_base</th>\n",
       "      <th>arm_lvl</th>\n",
       "      <th>mr_base</th>\n",
       "      <th>mr_lvl</th>\n",
       "      <th>...</th>\n",
       "      <th>missile_speed</th>\n",
       "      <th>usb</th>\n",
       "      <th>nb</th>\n",
       "      <th>ofa</th>\n",
       "      <th>gameplay_radius</th>\n",
       "      <th>crit_base</th>\n",
       "      <th>windup_modifier</th>\n",
       "      <th>range_lvl</th>\n",
       "      <th>swift</th>\n",
       "      <th>crit_mod</th>\n",
       "    </tr>\n",
       "  </thead>\n",
       "  <tbody>\n",
       "    <tr>\n",
       "      <th>0</th>\n",
       "      <td>Aatrox</td>\n",
       "      <td>{'hp_base': 650, 'hp_lvl': 114, 'mp_base': 0, ...</td>\n",
       "      <td>650.0</td>\n",
       "      <td>114.0</td>\n",
       "      <td>0.0</td>\n",
       "      <td>0.0</td>\n",
       "      <td>38.0</td>\n",
       "      <td>4.8</td>\n",
       "      <td>32.0</td>\n",
       "      <td>2.05</td>\n",
       "      <td>...</td>\n",
       "      <td>0.0</td>\n",
       "      <td>0</td>\n",
       "      <td>0</td>\n",
       "      <td>0</td>\n",
       "      <td>0.0</td>\n",
       "      <td>0.0</td>\n",
       "      <td>0.0</td>\n",
       "      <td>0.0</td>\n",
       "      <td>0</td>\n",
       "      <td>0.0</td>\n",
       "    </tr>\n",
       "  </tbody>\n",
       "</table>\n",
       "<p>1 rows × 40 columns</p>\n",
       "</div>"
      ]
     },
     "execution_count": 57,
     "metadata": {},
     "output_type": "execute_result"
    }
   ],
   "execution_count": 57
  },
  {
   "metadata": {},
   "cell_type": "markdown",
   "source": [
    "Lọc các vị tướng có tốc độ di chuyển lớn hơn 330\n",
    "\n"
   ],
   "id": "a66a91330d4f7a0e"
  },
  {
   "metadata": {
    "ExecuteTime": {
     "end_time": "2025-03-17T07:53:16.690159Z",
     "start_time": "2025-03-17T07:53:16.671544Z"
    }
   },
   "cell_type": "code",
   "source": [
    "\n",
    "#Lọc các vị tướng có tốc độ di chuyển lớn hơn 330\n",
    "result_df = pd.concat([stats_df, exploded_stats_filled], axis=1)\n",
    "\n",
    "# Filter champions with movement speed greater than 330\n",
    "filtered_df = result_df[result_df['ms'] >= 350]\n",
    "filtered_df.ms.describe()\n",
    "\n",
    "#load all 330\n",
    "# filtered_df.head(100)\n",
    "# #Chỉ lấy apiname và stat\n",
    "filtered_df = filtered_df.loc[:, ['apiname','stats','ms']]\n",
    "filtered_df.head(100)"
   ],
   "id": "f321dc5422e8bf55",
   "outputs": [
    {
     "data": {
      "text/plain": [
       "      apiname                                              stats     ms\n",
       "47     Illaoi  {'hp_base': 656, 'hp_lvl': 115, 'mp_base': 350...  350.0\n",
       "52        Jax  {'hp_base': 665, 'hp_lvl': 103, 'mp_base': 339...  350.0\n",
       "66     Khazix  {'hp_base': 643, 'hp_lvl': 99, 'mp_base': 327,...  350.0\n",
       "82   MasterYi  {'hp_base': 669, 'hp_lvl': 105, 'mp_base': 251...  355.0\n",
       "90      Nasus  {'hp_base': 631, 'hp_lvl': 104, 'mp_base': 326...  350.0\n",
       "97       Olaf  {'hp_base': 645, 'hp_lvl': 119, 'mp_base': 316...  350.0\n",
       "122   Shyvana  {'hp_base': 665, 'hp_lvl': 104, 'mp_base': 100...  350.0\n",
       "140   Trundle  {'hp_base': 650, 'hp_lvl': 110, 'mp_base': 340...  350.0\n",
       "144      Udyr  {'hp_base': 664, 'hp_lvl': 92, 'mp_base': 271,...  350.0"
      ],
      "text/html": [
       "<div>\n",
       "<style scoped>\n",
       "    .dataframe tbody tr th:only-of-type {\n",
       "        vertical-align: middle;\n",
       "    }\n",
       "\n",
       "    .dataframe tbody tr th {\n",
       "        vertical-align: top;\n",
       "    }\n",
       "\n",
       "    .dataframe thead th {\n",
       "        text-align: right;\n",
       "    }\n",
       "</style>\n",
       "<table border=\"1\" class=\"dataframe\">\n",
       "  <thead>\n",
       "    <tr style=\"text-align: right;\">\n",
       "      <th></th>\n",
       "      <th>apiname</th>\n",
       "      <th>stats</th>\n",
       "      <th>ms</th>\n",
       "    </tr>\n",
       "  </thead>\n",
       "  <tbody>\n",
       "    <tr>\n",
       "      <th>47</th>\n",
       "      <td>Illaoi</td>\n",
       "      <td>{'hp_base': 656, 'hp_lvl': 115, 'mp_base': 350...</td>\n",
       "      <td>350.0</td>\n",
       "    </tr>\n",
       "    <tr>\n",
       "      <th>52</th>\n",
       "      <td>Jax</td>\n",
       "      <td>{'hp_base': 665, 'hp_lvl': 103, 'mp_base': 339...</td>\n",
       "      <td>350.0</td>\n",
       "    </tr>\n",
       "    <tr>\n",
       "      <th>66</th>\n",
       "      <td>Khazix</td>\n",
       "      <td>{'hp_base': 643, 'hp_lvl': 99, 'mp_base': 327,...</td>\n",
       "      <td>350.0</td>\n",
       "    </tr>\n",
       "    <tr>\n",
       "      <th>82</th>\n",
       "      <td>MasterYi</td>\n",
       "      <td>{'hp_base': 669, 'hp_lvl': 105, 'mp_base': 251...</td>\n",
       "      <td>355.0</td>\n",
       "    </tr>\n",
       "    <tr>\n",
       "      <th>90</th>\n",
       "      <td>Nasus</td>\n",
       "      <td>{'hp_base': 631, 'hp_lvl': 104, 'mp_base': 326...</td>\n",
       "      <td>350.0</td>\n",
       "    </tr>\n",
       "    <tr>\n",
       "      <th>97</th>\n",
       "      <td>Olaf</td>\n",
       "      <td>{'hp_base': 645, 'hp_lvl': 119, 'mp_base': 316...</td>\n",
       "      <td>350.0</td>\n",
       "    </tr>\n",
       "    <tr>\n",
       "      <th>122</th>\n",
       "      <td>Shyvana</td>\n",
       "      <td>{'hp_base': 665, 'hp_lvl': 104, 'mp_base': 100...</td>\n",
       "      <td>350.0</td>\n",
       "    </tr>\n",
       "    <tr>\n",
       "      <th>140</th>\n",
       "      <td>Trundle</td>\n",
       "      <td>{'hp_base': 650, 'hp_lvl': 110, 'mp_base': 340...</td>\n",
       "      <td>350.0</td>\n",
       "    </tr>\n",
       "    <tr>\n",
       "      <th>144</th>\n",
       "      <td>Udyr</td>\n",
       "      <td>{'hp_base': 664, 'hp_lvl': 92, 'mp_base': 271,...</td>\n",
       "      <td>350.0</td>\n",
       "    </tr>\n",
       "  </tbody>\n",
       "</table>\n",
       "</div>"
      ]
     },
     "execution_count": 63,
     "metadata": {},
     "output_type": "execute_result"
    }
   ],
   "execution_count": 63
  },
  {
   "metadata": {},
   "cell_type": "markdown",
   "source": "Tính HP trung bình của toàn bộ t",
   "id": "355799f6e288ddfe"
  },
  {
   "metadata": {
    "ExecuteTime": {
     "end_time": "2025-03-17T07:59:15.846234Z",
     "start_time": "2025-03-17T07:59:15.839058Z"
    }
   },
   "cell_type": "code",
   "source": [
    "# Tính HP trung bình của toàn bộ tướng\n",
    "result_df = pd.concat([stats_df, exploded_stats_filled], axis=1)\n",
    "hp_avg = result_df['hp_base'].mean()\n",
    "print(hp_avg)"
   ],
   "id": "ac38ed4da038f440",
   "outputs": [
    {
     "name": "stdout",
     "output_type": "stream",
     "text": [
      "619.5174418604652\n"
     ]
    }
   ],
   "execution_count": 78
  }
 ],
 "metadata": {
  "kernelspec": {
   "display_name": "Python 3",
   "language": "python",
   "name": "python3"
  },
  "language_info": {
   "codemirror_mode": {
    "name": "ipython",
    "version": 2
   },
   "file_extension": ".py",
   "mimetype": "text/x-python",
   "name": "python",
   "nbconvert_exporter": "python",
   "pygments_lexer": "ipython2",
   "version": "2.7.6"
  }
 },
 "nbformat": 4,
 "nbformat_minor": 5
}
